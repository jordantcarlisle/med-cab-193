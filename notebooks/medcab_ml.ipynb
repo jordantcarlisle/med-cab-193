{
  "nbformat": 4,
  "nbformat_minor": 0,
  "metadata": {
    "colab": {
      "name": "medcab-ml.ipynb",
      "provenance": []
    },
    "kernelspec": {
      "name": "python3",
      "display_name": "Python 3"
    }
  },
  "cells": [
    {
      "cell_type": "markdown",
      "metadata": {
        "id": "YRAMX-8RlK0I"
      },
      "source": [
        "##Exploratory Data Analysis for Med Cabinet Prediction Model"
      ]
    },
    {
      "cell_type": "code",
      "metadata": {
        "id": "EGM86xzplE44"
      },
      "source": [
        "# EDA and visualization libraries\n",
        "import pandas as pd\n",
        "import matplotlib.pyplot as plt\n",
        "import numpy as np"
      ],
      "execution_count": 1,
      "outputs": []
    },
    {
      "cell_type": "code",
      "metadata": {
        "id": "pRA38HZtmL37"
      },
      "source": [
        "df = pd.read_csv('cannabis_.csv')"
      ],
      "execution_count": 2,
      "outputs": []
    },
    {
      "cell_type": "code",
      "metadata": {
        "colab": {
          "base_uri": "https://localhost:8080/",
          "height": 198
        },
        "id": "mHYOyU_Zm0FE",
        "outputId": "b81b94ac-4ea4-4800-b94e-3629f1009d60"
      },
      "source": [
        "df.head()"
      ],
      "execution_count": 3,
      "outputs": [
        {
          "output_type": "execute_result",
          "data": {
            "text/html": [
              "<div>\n",
              "<style scoped>\n",
              "    .dataframe tbody tr th:only-of-type {\n",
              "        vertical-align: middle;\n",
              "    }\n",
              "\n",
              "    .dataframe tbody tr th {\n",
              "        vertical-align: top;\n",
              "    }\n",
              "\n",
              "    .dataframe thead th {\n",
              "        text-align: right;\n",
              "    }\n",
              "</style>\n",
              "<table border=\"1\" class=\"dataframe\">\n",
              "  <thead>\n",
              "    <tr style=\"text-align: right;\">\n",
              "      <th></th>\n",
              "      <th>Strain</th>\n",
              "      <th>Type</th>\n",
              "      <th>Rating</th>\n",
              "      <th>Effects</th>\n",
              "      <th>Flavor</th>\n",
              "      <th>Description</th>\n",
              "    </tr>\n",
              "  </thead>\n",
              "  <tbody>\n",
              "    <tr>\n",
              "      <th>0</th>\n",
              "      <td>100-Og</td>\n",
              "      <td>hybrid</td>\n",
              "      <td>4.0</td>\n",
              "      <td>Creative,Energetic,Tingly,Euphoric,Relaxed</td>\n",
              "      <td>Earthy,Sweet,Citrus</td>\n",
              "      <td>$100 OG is a 50/50 hybrid strain that packs a ...</td>\n",
              "    </tr>\n",
              "    <tr>\n",
              "      <th>1</th>\n",
              "      <td>98-White-Widow</td>\n",
              "      <td>hybrid</td>\n",
              "      <td>4.7</td>\n",
              "      <td>Relaxed,Aroused,Creative,Happy,Energetic</td>\n",
              "      <td>Flowery,Violet,Diesel</td>\n",
              "      <td>The ‘98 Aloha White Widow is an especially pot...</td>\n",
              "    </tr>\n",
              "    <tr>\n",
              "      <th>2</th>\n",
              "      <td>1024</td>\n",
              "      <td>sativa</td>\n",
              "      <td>4.4</td>\n",
              "      <td>Uplifted,Happy,Relaxed,Energetic,Creative</td>\n",
              "      <td>Spicy/Herbal,Sage,Woody</td>\n",
              "      <td>1024 is a sativa-dominant hybrid bred in Spain...</td>\n",
              "    </tr>\n",
              "    <tr>\n",
              "      <th>3</th>\n",
              "      <td>13-Dawgs</td>\n",
              "      <td>hybrid</td>\n",
              "      <td>4.2</td>\n",
              "      <td>Tingly,Creative,Hungry,Relaxed,Uplifted</td>\n",
              "      <td>Apricot,Citrus,Grapefruit</td>\n",
              "      <td>13 Dawgs is a hybrid of G13 and Chemdawg genet...</td>\n",
              "    </tr>\n",
              "    <tr>\n",
              "      <th>4</th>\n",
              "      <td>24K-Gold</td>\n",
              "      <td>hybrid</td>\n",
              "      <td>4.6</td>\n",
              "      <td>Happy,Relaxed,Euphoric,Uplifted,Talkative</td>\n",
              "      <td>Citrus,Earthy,Orange</td>\n",
              "      <td>Also known as Kosher Tangie, 24k Gold is a 60%...</td>\n",
              "    </tr>\n",
              "  </tbody>\n",
              "</table>\n",
              "</div>"
            ],
            "text/plain": [
              "           Strain  ...                                        Description\n",
              "0          100-Og  ...  $100 OG is a 50/50 hybrid strain that packs a ...\n",
              "1  98-White-Widow  ...  The ‘98 Aloha White Widow is an especially pot...\n",
              "2            1024  ...  1024 is a sativa-dominant hybrid bred in Spain...\n",
              "3        13-Dawgs  ...  13 Dawgs is a hybrid of G13 and Chemdawg genet...\n",
              "4        24K-Gold  ...  Also known as Kosher Tangie, 24k Gold is a 60%...\n",
              "\n",
              "[5 rows x 6 columns]"
            ]
          },
          "metadata": {
            "tags": []
          },
          "execution_count": 3
        }
      ]
    },
    {
      "cell_type": "code",
      "metadata": {
        "colab": {
          "base_uri": "https://localhost:8080/"
        },
        "id": "65M0NfpUnHMW",
        "outputId": "16f3577c-9c06-464a-c70c-5463c3223a77"
      },
      "source": [
        "df.shape"
      ],
      "execution_count": 4,
      "outputs": [
        {
          "output_type": "execute_result",
          "data": {
            "text/plain": [
              "(2351, 6)"
            ]
          },
          "metadata": {
            "tags": []
          },
          "execution_count": 4
        }
      ]
    },
    {
      "cell_type": "code",
      "metadata": {
        "id": "gODxFHMEnVRK"
      },
      "source": [
        "df = df.replace('None', np.nan)\n",
        "df = df.dropna().reset_index()"
      ],
      "execution_count": 5,
      "outputs": []
    },
    {
      "cell_type": "code",
      "metadata": {
        "id": "cei5rlgYKrdw"
      },
      "source": [
        "df['Flavor']= df['Flavor'].str.replace(',',' ')\n",
        "df['Effects'] = df['Effects'].str.replace(',', ' ')"
      ],
      "execution_count": 6,
      "outputs": []
    },
    {
      "cell_type": "code",
      "metadata": {
        "colab": {
          "base_uri": "https://localhost:8080/",
          "height": 425
        },
        "id": "_1Nt9a2GKri8",
        "outputId": "d2a438e9-0e85-43a1-9291-d7139e97e0fe"
      },
      "source": [
        "print(df.shape)\n",
        "df"
      ],
      "execution_count": 7,
      "outputs": [
        {
          "output_type": "stream",
          "text": [
            "(2163, 7)\n"
          ],
          "name": "stdout"
        },
        {
          "output_type": "execute_result",
          "data": {
            "text/html": [
              "<div>\n",
              "<style scoped>\n",
              "    .dataframe tbody tr th:only-of-type {\n",
              "        vertical-align: middle;\n",
              "    }\n",
              "\n",
              "    .dataframe tbody tr th {\n",
              "        vertical-align: top;\n",
              "    }\n",
              "\n",
              "    .dataframe thead th {\n",
              "        text-align: right;\n",
              "    }\n",
              "</style>\n",
              "<table border=\"1\" class=\"dataframe\">\n",
              "  <thead>\n",
              "    <tr style=\"text-align: right;\">\n",
              "      <th></th>\n",
              "      <th>index</th>\n",
              "      <th>Strain</th>\n",
              "      <th>Type</th>\n",
              "      <th>Rating</th>\n",
              "      <th>Effects</th>\n",
              "      <th>Flavor</th>\n",
              "      <th>Description</th>\n",
              "    </tr>\n",
              "  </thead>\n",
              "  <tbody>\n",
              "    <tr>\n",
              "      <th>0</th>\n",
              "      <td>0</td>\n",
              "      <td>100-Og</td>\n",
              "      <td>hybrid</td>\n",
              "      <td>4.0</td>\n",
              "      <td>Creative Energetic Tingly Euphoric Relaxed</td>\n",
              "      <td>Earthy Sweet Citrus</td>\n",
              "      <td>$100 OG is a 50/50 hybrid strain that packs a ...</td>\n",
              "    </tr>\n",
              "    <tr>\n",
              "      <th>1</th>\n",
              "      <td>1</td>\n",
              "      <td>98-White-Widow</td>\n",
              "      <td>hybrid</td>\n",
              "      <td>4.7</td>\n",
              "      <td>Relaxed Aroused Creative Happy Energetic</td>\n",
              "      <td>Flowery Violet Diesel</td>\n",
              "      <td>The ‘98 Aloha White Widow is an especially pot...</td>\n",
              "    </tr>\n",
              "    <tr>\n",
              "      <th>2</th>\n",
              "      <td>2</td>\n",
              "      <td>1024</td>\n",
              "      <td>sativa</td>\n",
              "      <td>4.4</td>\n",
              "      <td>Uplifted Happy Relaxed Energetic Creative</td>\n",
              "      <td>Spicy/Herbal Sage Woody</td>\n",
              "      <td>1024 is a sativa-dominant hybrid bred in Spain...</td>\n",
              "    </tr>\n",
              "    <tr>\n",
              "      <th>3</th>\n",
              "      <td>3</td>\n",
              "      <td>13-Dawgs</td>\n",
              "      <td>hybrid</td>\n",
              "      <td>4.2</td>\n",
              "      <td>Tingly Creative Hungry Relaxed Uplifted</td>\n",
              "      <td>Apricot Citrus Grapefruit</td>\n",
              "      <td>13 Dawgs is a hybrid of G13 and Chemdawg genet...</td>\n",
              "    </tr>\n",
              "    <tr>\n",
              "      <th>4</th>\n",
              "      <td>4</td>\n",
              "      <td>24K-Gold</td>\n",
              "      <td>hybrid</td>\n",
              "      <td>4.6</td>\n",
              "      <td>Happy Relaxed Euphoric Uplifted Talkative</td>\n",
              "      <td>Citrus Earthy Orange</td>\n",
              "      <td>Also known as Kosher Tangie, 24k Gold is a 60%...</td>\n",
              "    </tr>\n",
              "    <tr>\n",
              "      <th>...</th>\n",
              "      <td>...</td>\n",
              "      <td>...</td>\n",
              "      <td>...</td>\n",
              "      <td>...</td>\n",
              "      <td>...</td>\n",
              "      <td>...</td>\n",
              "      <td>...</td>\n",
              "    </tr>\n",
              "    <tr>\n",
              "      <th>2158</th>\n",
              "      <td>2346</td>\n",
              "      <td>Zeus-Og</td>\n",
              "      <td>hybrid</td>\n",
              "      <td>4.7</td>\n",
              "      <td>Happy Uplifted Relaxed Euphoric Energetic</td>\n",
              "      <td>Earthy Woody Pine</td>\n",
              "      <td>Zeus OG is a hybrid cross between Pineapple OG...</td>\n",
              "    </tr>\n",
              "    <tr>\n",
              "      <th>2159</th>\n",
              "      <td>2347</td>\n",
              "      <td>Zkittlez</td>\n",
              "      <td>indica</td>\n",
              "      <td>4.6</td>\n",
              "      <td>Relaxed Happy Euphoric Uplifted Sleepy</td>\n",
              "      <td>Sweet Berry Grape</td>\n",
              "      <td>Zkittlez is an indica-dominant mix of Grape Ap...</td>\n",
              "    </tr>\n",
              "    <tr>\n",
              "      <th>2160</th>\n",
              "      <td>2348</td>\n",
              "      <td>Zombie-Kush</td>\n",
              "      <td>indica</td>\n",
              "      <td>5.0</td>\n",
              "      <td>Relaxed Sleepy Talkative Euphoric Happy</td>\n",
              "      <td>Earthy Sweet Spicy/Herbal</td>\n",
              "      <td>Zombie Kush by Ripper Seeds comes from two dif...</td>\n",
              "    </tr>\n",
              "    <tr>\n",
              "      <th>2161</th>\n",
              "      <td>2349</td>\n",
              "      <td>Zombie-Og</td>\n",
              "      <td>indica</td>\n",
              "      <td>4.4</td>\n",
              "      <td>Relaxed Sleepy Euphoric Happy Hungry</td>\n",
              "      <td>Sweet Earthy Pungent</td>\n",
              "      <td>If you’re looking to transform into a flesh-ea...</td>\n",
              "    </tr>\n",
              "    <tr>\n",
              "      <th>2162</th>\n",
              "      <td>2350</td>\n",
              "      <td>Zoom-Pie</td>\n",
              "      <td>indica</td>\n",
              "      <td>4.6</td>\n",
              "      <td>Hungry Relaxed Uplifted Happy Sleepy</td>\n",
              "      <td>Berry Earthy Pungent</td>\n",
              "      <td>Zoom Pie (also known as Zombie Pie) is a heavy...</td>\n",
              "    </tr>\n",
              "  </tbody>\n",
              "</table>\n",
              "<p>2163 rows × 7 columns</p>\n",
              "</div>"
            ],
            "text/plain": [
              "      index  ...                                        Description\n",
              "0         0  ...  $100 OG is a 50/50 hybrid strain that packs a ...\n",
              "1         1  ...  The ‘98 Aloha White Widow is an especially pot...\n",
              "2         2  ...  1024 is a sativa-dominant hybrid bred in Spain...\n",
              "3         3  ...  13 Dawgs is a hybrid of G13 and Chemdawg genet...\n",
              "4         4  ...  Also known as Kosher Tangie, 24k Gold is a 60%...\n",
              "...     ...  ...                                                ...\n",
              "2158   2346  ...  Zeus OG is a hybrid cross between Pineapple OG...\n",
              "2159   2347  ...  Zkittlez is an indica-dominant mix of Grape Ap...\n",
              "2160   2348  ...  Zombie Kush by Ripper Seeds comes from two dif...\n",
              "2161   2349  ...  If you’re looking to transform into a flesh-ea...\n",
              "2162   2350  ...  Zoom Pie (also known as Zombie Pie) is a heavy...\n",
              "\n",
              "[2163 rows x 7 columns]"
            ]
          },
          "metadata": {
            "tags": []
          },
          "execution_count": 7
        }
      ]
    },
    {
      "cell_type": "code",
      "metadata": {
        "colab": {
          "base_uri": "https://localhost:8080/",
          "height": 70
        },
        "id": "Y7K1uBkvKrn4",
        "outputId": "4c6a66b0-8f94-408c-ebbd-2fcaa59ee0f7"
      },
      "source": [
        "df['combined'] = df[\"Effects\"] +  df[\"Flavor\"] + df['Description']\n",
        "df[\"combined\"][0]"
      ],
      "execution_count": 8,
      "outputs": [
        {
          "output_type": "execute_result",
          "data": {
            "application/vnd.google.colaboratory.intrinsic+json": {
              "type": "string"
            },
            "text/plain": [
              "'Creative Energetic Tingly Euphoric RelaxedEarthy Sweet Citrus$100 OG is a 50/50 hybrid strain that packs a strong punch. The name supposedly refers to both its strength and high price when it first started showing up in Hollywood. As a plant, $100 OG tends to produce large dark green buds with few stems. Users report a strong body effect of an indica for pain relief with the more alert, cerebral feeling thanks to its sativa side.'"
            ]
          },
          "metadata": {
            "tags": []
          },
          "execution_count": 8
        }
      ]
    },
    {
      "cell_type": "code",
      "metadata": {
        "colab": {
          "base_uri": "https://localhost:8080/",
          "height": 285
        },
        "id": "UPDcPhL2KrxG",
        "outputId": "8d5d919f-b1d4-417f-de01-5e4c95aaf802"
      },
      "source": [
        "df.head()"
      ],
      "execution_count": 9,
      "outputs": [
        {
          "output_type": "execute_result",
          "data": {
            "text/html": [
              "<div>\n",
              "<style scoped>\n",
              "    .dataframe tbody tr th:only-of-type {\n",
              "        vertical-align: middle;\n",
              "    }\n",
              "\n",
              "    .dataframe tbody tr th {\n",
              "        vertical-align: top;\n",
              "    }\n",
              "\n",
              "    .dataframe thead th {\n",
              "        text-align: right;\n",
              "    }\n",
              "</style>\n",
              "<table border=\"1\" class=\"dataframe\">\n",
              "  <thead>\n",
              "    <tr style=\"text-align: right;\">\n",
              "      <th></th>\n",
              "      <th>index</th>\n",
              "      <th>Strain</th>\n",
              "      <th>Type</th>\n",
              "      <th>Rating</th>\n",
              "      <th>Effects</th>\n",
              "      <th>Flavor</th>\n",
              "      <th>Description</th>\n",
              "      <th>combined</th>\n",
              "    </tr>\n",
              "  </thead>\n",
              "  <tbody>\n",
              "    <tr>\n",
              "      <th>0</th>\n",
              "      <td>0</td>\n",
              "      <td>100-Og</td>\n",
              "      <td>hybrid</td>\n",
              "      <td>4.0</td>\n",
              "      <td>Creative Energetic Tingly Euphoric Relaxed</td>\n",
              "      <td>Earthy Sweet Citrus</td>\n",
              "      <td>$100 OG is a 50/50 hybrid strain that packs a ...</td>\n",
              "      <td>Creative Energetic Tingly Euphoric RelaxedEart...</td>\n",
              "    </tr>\n",
              "    <tr>\n",
              "      <th>1</th>\n",
              "      <td>1</td>\n",
              "      <td>98-White-Widow</td>\n",
              "      <td>hybrid</td>\n",
              "      <td>4.7</td>\n",
              "      <td>Relaxed Aroused Creative Happy Energetic</td>\n",
              "      <td>Flowery Violet Diesel</td>\n",
              "      <td>The ‘98 Aloha White Widow is an especially pot...</td>\n",
              "      <td>Relaxed Aroused Creative Happy EnergeticFlower...</td>\n",
              "    </tr>\n",
              "    <tr>\n",
              "      <th>2</th>\n",
              "      <td>2</td>\n",
              "      <td>1024</td>\n",
              "      <td>sativa</td>\n",
              "      <td>4.4</td>\n",
              "      <td>Uplifted Happy Relaxed Energetic Creative</td>\n",
              "      <td>Spicy/Herbal Sage Woody</td>\n",
              "      <td>1024 is a sativa-dominant hybrid bred in Spain...</td>\n",
              "      <td>Uplifted Happy Relaxed Energetic CreativeSpicy...</td>\n",
              "    </tr>\n",
              "    <tr>\n",
              "      <th>3</th>\n",
              "      <td>3</td>\n",
              "      <td>13-Dawgs</td>\n",
              "      <td>hybrid</td>\n",
              "      <td>4.2</td>\n",
              "      <td>Tingly Creative Hungry Relaxed Uplifted</td>\n",
              "      <td>Apricot Citrus Grapefruit</td>\n",
              "      <td>13 Dawgs is a hybrid of G13 and Chemdawg genet...</td>\n",
              "      <td>Tingly Creative Hungry Relaxed UpliftedApricot...</td>\n",
              "    </tr>\n",
              "    <tr>\n",
              "      <th>4</th>\n",
              "      <td>4</td>\n",
              "      <td>24K-Gold</td>\n",
              "      <td>hybrid</td>\n",
              "      <td>4.6</td>\n",
              "      <td>Happy Relaxed Euphoric Uplifted Talkative</td>\n",
              "      <td>Citrus Earthy Orange</td>\n",
              "      <td>Also known as Kosher Tangie, 24k Gold is a 60%...</td>\n",
              "      <td>Happy Relaxed Euphoric Uplifted TalkativeCitru...</td>\n",
              "    </tr>\n",
              "  </tbody>\n",
              "</table>\n",
              "</div>"
            ],
            "text/plain": [
              "   index  ...                                           combined\n",
              "0      0  ...  Creative Energetic Tingly Euphoric RelaxedEart...\n",
              "1      1  ...  Relaxed Aroused Creative Happy EnergeticFlower...\n",
              "2      2  ...  Uplifted Happy Relaxed Energetic CreativeSpicy...\n",
              "3      3  ...  Tingly Creative Hungry Relaxed UpliftedApricot...\n",
              "4      4  ...  Happy Relaxed Euphoric Uplifted TalkativeCitru...\n",
              "\n",
              "[5 rows x 8 columns]"
            ]
          },
          "metadata": {
            "tags": []
          },
          "execution_count": 9
        }
      ]
    },
    {
      "cell_type": "code",
      "metadata": {
        "colab": {
          "base_uri": "https://localhost:8080/"
        },
        "id": "u2E5-DruLTMU",
        "outputId": "97bc349a-1900-424e-9a2e-2b22c5ca6a94"
      },
      "source": [
        "!python -m spacy download en_core_web_lg"
      ],
      "execution_count": 10,
      "outputs": [
        {
          "output_type": "stream",
          "text": [
            "Requirement already satisfied: en_core_web_lg==2.2.5 from https://github.com/explosion/spacy-models/releases/download/en_core_web_lg-2.2.5/en_core_web_lg-2.2.5.tar.gz#egg=en_core_web_lg==2.2.5 in /usr/local/lib/python3.6/dist-packages (2.2.5)\n",
            "Requirement already satisfied: spacy>=2.2.2 in /usr/local/lib/python3.6/dist-packages (from en_core_web_lg==2.2.5) (2.2.4)\n",
            "Requirement already satisfied: srsly<1.1.0,>=1.0.2 in /usr/local/lib/python3.6/dist-packages (from spacy>=2.2.2->en_core_web_lg==2.2.5) (1.0.5)\n",
            "Requirement already satisfied: cymem<2.1.0,>=2.0.2 in /usr/local/lib/python3.6/dist-packages (from spacy>=2.2.2->en_core_web_lg==2.2.5) (2.0.5)\n",
            "Requirement already satisfied: blis<0.5.0,>=0.4.0 in /usr/local/lib/python3.6/dist-packages (from spacy>=2.2.2->en_core_web_lg==2.2.5) (0.4.1)\n",
            "Requirement already satisfied: thinc==7.4.0 in /usr/local/lib/python3.6/dist-packages (from spacy>=2.2.2->en_core_web_lg==2.2.5) (7.4.0)\n",
            "Requirement already satisfied: preshed<3.1.0,>=3.0.2 in /usr/local/lib/python3.6/dist-packages (from spacy>=2.2.2->en_core_web_lg==2.2.5) (3.0.5)\n",
            "Requirement already satisfied: requests<3.0.0,>=2.13.0 in /usr/local/lib/python3.6/dist-packages (from spacy>=2.2.2->en_core_web_lg==2.2.5) (2.23.0)\n",
            "Requirement already satisfied: catalogue<1.1.0,>=0.0.7 in /usr/local/lib/python3.6/dist-packages (from spacy>=2.2.2->en_core_web_lg==2.2.5) (1.0.0)\n",
            "Requirement already satisfied: wasabi<1.1.0,>=0.4.0 in /usr/local/lib/python3.6/dist-packages (from spacy>=2.2.2->en_core_web_lg==2.2.5) (0.8.0)\n",
            "Requirement already satisfied: murmurhash<1.1.0,>=0.28.0 in /usr/local/lib/python3.6/dist-packages (from spacy>=2.2.2->en_core_web_lg==2.2.5) (1.0.5)\n",
            "Requirement already satisfied: plac<1.2.0,>=0.9.6 in /usr/local/lib/python3.6/dist-packages (from spacy>=2.2.2->en_core_web_lg==2.2.5) (1.1.3)\n",
            "Requirement already satisfied: tqdm<5.0.0,>=4.38.0 in /usr/local/lib/python3.6/dist-packages (from spacy>=2.2.2->en_core_web_lg==2.2.5) (4.41.1)\n",
            "Requirement already satisfied: numpy>=1.15.0 in /usr/local/lib/python3.6/dist-packages (from spacy>=2.2.2->en_core_web_lg==2.2.5) (1.19.5)\n",
            "Requirement already satisfied: setuptools in /usr/local/lib/python3.6/dist-packages (from spacy>=2.2.2->en_core_web_lg==2.2.5) (51.1.1)\n",
            "Requirement already satisfied: urllib3!=1.25.0,!=1.25.1,<1.26,>=1.21.1 in /usr/local/lib/python3.6/dist-packages (from requests<3.0.0,>=2.13.0->spacy>=2.2.2->en_core_web_lg==2.2.5) (1.24.3)\n",
            "Requirement already satisfied: chardet<4,>=3.0.2 in /usr/local/lib/python3.6/dist-packages (from requests<3.0.0,>=2.13.0->spacy>=2.2.2->en_core_web_lg==2.2.5) (3.0.4)\n",
            "Requirement already satisfied: certifi>=2017.4.17 in /usr/local/lib/python3.6/dist-packages (from requests<3.0.0,>=2.13.0->spacy>=2.2.2->en_core_web_lg==2.2.5) (2020.12.5)\n",
            "Requirement already satisfied: idna<3,>=2.5 in /usr/local/lib/python3.6/dist-packages (from requests<3.0.0,>=2.13.0->spacy>=2.2.2->en_core_web_lg==2.2.5) (2.10)\n",
            "Requirement already satisfied: importlib-metadata>=0.20; python_version < \"3.8\" in /usr/local/lib/python3.6/dist-packages (from catalogue<1.1.0,>=0.0.7->spacy>=2.2.2->en_core_web_lg==2.2.5) (3.3.0)\n",
            "Requirement already satisfied: typing-extensions>=3.6.4; python_version < \"3.8\" in /usr/local/lib/python3.6/dist-packages (from importlib-metadata>=0.20; python_version < \"3.8\"->catalogue<1.1.0,>=0.0.7->spacy>=2.2.2->en_core_web_lg==2.2.5) (3.7.4.3)\n",
            "Requirement already satisfied: zipp>=0.5 in /usr/local/lib/python3.6/dist-packages (from importlib-metadata>=0.20; python_version < \"3.8\"->catalogue<1.1.0,>=0.0.7->spacy>=2.2.2->en_core_web_lg==2.2.5) (3.4.0)\n",
            "\u001b[38;5;2m✔ Download and installation successful\u001b[0m\n",
            "You can now load the model via spacy.load('en_core_web_lg')\n"
          ],
          "name": "stdout"
        }
      ]
    },
    {
      "cell_type": "code",
      "metadata": {
        "id": "U7uoDzPgl1X2"
      },
      "source": [
        "# modeling, nlp, and ml libraries\n",
        "import re\n",
        "import string\n",
        "import spacy\n",
        "import sklearn\n",
        "from sklearn.feature_extraction.text import CountVectorizer, TfidfVectorizer\n",
        "from spacy.tokenizer import Tokenizer\n",
        "from sklearn.neighbors import NearestNeighbors\n",
        "import en_core_web_lg"
      ],
      "execution_count": 11,
      "outputs": []
    },
    {
      "cell_type": "code",
      "metadata": {
        "colab": {
          "base_uri": "https://localhost:8080/"
        },
        "id": "SshRUfOwMGYP",
        "outputId": "abeaee17-c3c4-4a93-b01f-14d1755b69e4"
      },
      "source": [
        "nlp = spacy.load(\"en_core_web_lg\")\n",
        "df.head()\n",
        "\n",
        "# The Tokenizer\n",
        "tokenizer = Tokenizer(nlp.vocab)\n",
        "\n",
        "# Make the tokens for description\n",
        "combined_tokens = []\n",
        "for txt in tokenizer.pipe(df['combined'], batch_size=500):\n",
        "    txt_tokens = [token.text for token in txt]\n",
        "    combined_tokens.append(txt_tokens)\n",
        "df['combined_tokens'] = combined_tokens\n",
        "print(df['combined_tokens'].head())"
      ],
      "execution_count": 12,
      "outputs": [
        {
          "output_type": "stream",
          "text": [
            "0    [Creative, Energetic, Tingly, Euphoric, Relaxe...\n",
            "1    [Relaxed, Aroused, Creative, Happy, EnergeticF...\n",
            "2    [Uplifted, Happy, Relaxed, Energetic, Creative...\n",
            "3    [Tingly, Creative, Hungry, Relaxed, UpliftedAp...\n",
            "4    [Happy, Relaxed, Euphoric, Uplifted, Talkative...\n",
            "Name: combined_tokens, dtype: object\n"
          ],
          "name": "stdout"
        }
      ]
    },
    {
      "cell_type": "code",
      "metadata": {
        "colab": {
          "base_uri": "https://localhost:8080/",
          "height": 285
        },
        "id": "0-2PfrNwMIL1",
        "outputId": "1c2badbb-f1b0-40f5-fdc2-34c1490278e9"
      },
      "source": [
        "df.head()"
      ],
      "execution_count": 13,
      "outputs": [
        {
          "output_type": "execute_result",
          "data": {
            "text/html": [
              "<div>\n",
              "<style scoped>\n",
              "    .dataframe tbody tr th:only-of-type {\n",
              "        vertical-align: middle;\n",
              "    }\n",
              "\n",
              "    .dataframe tbody tr th {\n",
              "        vertical-align: top;\n",
              "    }\n",
              "\n",
              "    .dataframe thead th {\n",
              "        text-align: right;\n",
              "    }\n",
              "</style>\n",
              "<table border=\"1\" class=\"dataframe\">\n",
              "  <thead>\n",
              "    <tr style=\"text-align: right;\">\n",
              "      <th></th>\n",
              "      <th>index</th>\n",
              "      <th>Strain</th>\n",
              "      <th>Type</th>\n",
              "      <th>Rating</th>\n",
              "      <th>Effects</th>\n",
              "      <th>Flavor</th>\n",
              "      <th>Description</th>\n",
              "      <th>combined</th>\n",
              "      <th>combined_tokens</th>\n",
              "    </tr>\n",
              "  </thead>\n",
              "  <tbody>\n",
              "    <tr>\n",
              "      <th>0</th>\n",
              "      <td>0</td>\n",
              "      <td>100-Og</td>\n",
              "      <td>hybrid</td>\n",
              "      <td>4.0</td>\n",
              "      <td>Creative Energetic Tingly Euphoric Relaxed</td>\n",
              "      <td>Earthy Sweet Citrus</td>\n",
              "      <td>$100 OG is a 50/50 hybrid strain that packs a ...</td>\n",
              "      <td>Creative Energetic Tingly Euphoric RelaxedEart...</td>\n",
              "      <td>[Creative, Energetic, Tingly, Euphoric, Relaxe...</td>\n",
              "    </tr>\n",
              "    <tr>\n",
              "      <th>1</th>\n",
              "      <td>1</td>\n",
              "      <td>98-White-Widow</td>\n",
              "      <td>hybrid</td>\n",
              "      <td>4.7</td>\n",
              "      <td>Relaxed Aroused Creative Happy Energetic</td>\n",
              "      <td>Flowery Violet Diesel</td>\n",
              "      <td>The ‘98 Aloha White Widow is an especially pot...</td>\n",
              "      <td>Relaxed Aroused Creative Happy EnergeticFlower...</td>\n",
              "      <td>[Relaxed, Aroused, Creative, Happy, EnergeticF...</td>\n",
              "    </tr>\n",
              "    <tr>\n",
              "      <th>2</th>\n",
              "      <td>2</td>\n",
              "      <td>1024</td>\n",
              "      <td>sativa</td>\n",
              "      <td>4.4</td>\n",
              "      <td>Uplifted Happy Relaxed Energetic Creative</td>\n",
              "      <td>Spicy/Herbal Sage Woody</td>\n",
              "      <td>1024 is a sativa-dominant hybrid bred in Spain...</td>\n",
              "      <td>Uplifted Happy Relaxed Energetic CreativeSpicy...</td>\n",
              "      <td>[Uplifted, Happy, Relaxed, Energetic, Creative...</td>\n",
              "    </tr>\n",
              "    <tr>\n",
              "      <th>3</th>\n",
              "      <td>3</td>\n",
              "      <td>13-Dawgs</td>\n",
              "      <td>hybrid</td>\n",
              "      <td>4.2</td>\n",
              "      <td>Tingly Creative Hungry Relaxed Uplifted</td>\n",
              "      <td>Apricot Citrus Grapefruit</td>\n",
              "      <td>13 Dawgs is a hybrid of G13 and Chemdawg genet...</td>\n",
              "      <td>Tingly Creative Hungry Relaxed UpliftedApricot...</td>\n",
              "      <td>[Tingly, Creative, Hungry, Relaxed, UpliftedAp...</td>\n",
              "    </tr>\n",
              "    <tr>\n",
              "      <th>4</th>\n",
              "      <td>4</td>\n",
              "      <td>24K-Gold</td>\n",
              "      <td>hybrid</td>\n",
              "      <td>4.6</td>\n",
              "      <td>Happy Relaxed Euphoric Uplifted Talkative</td>\n",
              "      <td>Citrus Earthy Orange</td>\n",
              "      <td>Also known as Kosher Tangie, 24k Gold is a 60%...</td>\n",
              "      <td>Happy Relaxed Euphoric Uplifted TalkativeCitru...</td>\n",
              "      <td>[Happy, Relaxed, Euphoric, Uplifted, Talkative...</td>\n",
              "    </tr>\n",
              "  </tbody>\n",
              "</table>\n",
              "</div>"
            ],
            "text/plain": [
              "   index  ...                                    combined_tokens\n",
              "0      0  ...  [Creative, Energetic, Tingly, Euphoric, Relaxe...\n",
              "1      1  ...  [Relaxed, Aroused, Creative, Happy, EnergeticF...\n",
              "2      2  ...  [Uplifted, Happy, Relaxed, Energetic, Creative...\n",
              "3      3  ...  [Tingly, Creative, Hungry, Relaxed, UpliftedAp...\n",
              "4      4  ...  [Happy, Relaxed, Euphoric, Uplifted, Talkative...\n",
              "\n",
              "[5 rows x 9 columns]"
            ]
          },
          "metadata": {
            "tags": []
          },
          "execution_count": 13
        }
      ]
    },
    {
      "cell_type": "code",
      "metadata": {
        "colab": {
          "base_uri": "https://localhost:8080/"
        },
        "id": "JBbtqC3vMVNY",
        "outputId": "82221391-b674-4cc0-a384-4facb5137f60"
      },
      "source": [
        "df['combined_tokens'][0]"
      ],
      "execution_count": 14,
      "outputs": [
        {
          "output_type": "execute_result",
          "data": {
            "text/plain": [
              "['Creative',\n",
              " 'Energetic',\n",
              " 'Tingly',\n",
              " 'Euphoric',\n",
              " 'RelaxedEarthy',\n",
              " 'Sweet',\n",
              " 'Citrus$100',\n",
              " 'OG',\n",
              " 'is',\n",
              " 'a',\n",
              " '50/50',\n",
              " 'hybrid',\n",
              " 'strain',\n",
              " 'that',\n",
              " 'packs',\n",
              " 'a',\n",
              " 'strong',\n",
              " 'punch.',\n",
              " 'The',\n",
              " 'name',\n",
              " 'supposedly',\n",
              " 'refers',\n",
              " 'to',\n",
              " 'both',\n",
              " 'its',\n",
              " 'strength',\n",
              " 'and',\n",
              " 'high',\n",
              " 'price',\n",
              " 'when',\n",
              " 'it',\n",
              " 'first',\n",
              " 'started',\n",
              " 'showing',\n",
              " 'up',\n",
              " 'in',\n",
              " 'Hollywood.',\n",
              " 'As',\n",
              " 'a',\n",
              " 'plant,',\n",
              " '$100',\n",
              " 'OG',\n",
              " 'tends',\n",
              " 'to',\n",
              " 'produce',\n",
              " 'large',\n",
              " 'dark',\n",
              " 'green',\n",
              " 'buds',\n",
              " 'with',\n",
              " 'few',\n",
              " 'stems.',\n",
              " 'Users',\n",
              " 'report',\n",
              " 'a',\n",
              " 'strong',\n",
              " 'body',\n",
              " 'effect',\n",
              " 'of',\n",
              " 'an',\n",
              " 'indica',\n",
              " 'for',\n",
              " 'pain',\n",
              " 'relief',\n",
              " 'with',\n",
              " 'the',\n",
              " 'more',\n",
              " 'alert,',\n",
              " 'cerebral',\n",
              " 'feeling',\n",
              " 'thanks',\n",
              " 'to',\n",
              " 'its',\n",
              " 'sativa',\n",
              " 'side.']"
            ]
          },
          "metadata": {
            "tags": []
          },
          "execution_count": 14
        }
      ]
    },
    {
      "cell_type": "code",
      "metadata": {
        "id": "t420RuuMMWob"
      },
      "source": [
        "def tokenize(document):\n",
        "    \n",
        "    doc = nlp(document)\n",
        "    \n",
        "    return [token.lemma_.strip() for token in doc if (token.is_stop != True) and (token.is_punct != True)]"
      ],
      "execution_count": 15,
      "outputs": []
    },
    {
      "cell_type": "code",
      "metadata": {
        "colab": {
          "base_uri": "https://localhost:8080/",
          "height": 282
        },
        "id": "ZhPn1ivAMqm1",
        "outputId": "0dc58272-f2a6-4537-f5d8-da1575f3f594"
      },
      "source": [
        "# Instantiate vectorizer object\n",
        "tfidf = TfidfVectorizer(stop_words = 'english',\n",
        "                       ngram_range = (1,2),\n",
        "                       max_features = 2000)\n",
        "\n",
        "# Create a vocabulary and tf-idf score per document\n",
        "dtm = tfidf.fit_transform(df['combined'])\n",
        "                         \n",
        "\n",
        "# Get feature names to use as dataframe column headers\n",
        "dtm = pd.DataFrame(dtm.todense(), columns=tfidf.get_feature_names())\n",
        "nn = NearestNeighbors(n_neighbors=4, algorithm='kd_tree')\n",
        "nn.fit(dtm)\n",
        "\n",
        "\n",
        "# View Feature Matrix as DataFrame\n",
        "print(dtm.shape)\n",
        "dtm.head()"
      ],
      "execution_count": 18,
      "outputs": [
        {
          "output_type": "stream",
          "text": [
            "(2163, 2000)\n"
          ],
          "name": "stdout"
        },
        {
          "output_type": "execute_result",
          "data": {
            "text/html": [
              "<div>\n",
              "<style scoped>\n",
              "    .dataframe tbody tr th:only-of-type {\n",
              "        vertical-align: middle;\n",
              "    }\n",
              "\n",
              "    .dataframe tbody tr th {\n",
              "        vertical-align: top;\n",
              "    }\n",
              "\n",
              "    .dataframe thead th {\n",
              "        text-align: right;\n",
              "    }\n",
              "</style>\n",
              "<table border=\"1\" class=\"dataframe\">\n",
              "  <thead>\n",
              "    <tr style=\"text-align: right;\">\n",
              "      <th></th>\n",
              "      <th>10</th>\n",
              "      <th>10 weeks</th>\n",
              "      <th>11</th>\n",
              "      <th>11 weeks</th>\n",
              "      <th>12</th>\n",
              "      <th>13</th>\n",
              "      <th>14</th>\n",
              "      <th>15</th>\n",
              "      <th>18</th>\n",
              "      <th>1980s</th>\n",
              "      <th>1st</th>\n",
              "      <th>1st hawaiian</th>\n",
              "      <th>1st place</th>\n",
              "      <th>20</th>\n",
              "      <th>20 indica</th>\n",
              "      <th>20 thc</th>\n",
              "      <th>2012</th>\n",
              "      <th>2014</th>\n",
              "      <th>2014 cannabis</th>\n",
              "      <th>2015</th>\n",
              "      <th>2016</th>\n",
              "      <th>22</th>\n",
              "      <th>23</th>\n",
              "      <th>24</th>\n",
              "      <th>25</th>\n",
              "      <th>2nd</th>\n",
              "      <th>2nd place</th>\n",
              "      <th>30</th>\n",
              "      <th>30 indica</th>\n",
              "      <th>3rd</th>\n",
              "      <th>3rd place</th>\n",
              "      <th>40</th>\n",
              "      <th>40 indica</th>\n",
              "      <th>40 sativa</th>\n",
              "      <th>45</th>\n",
              "      <th>47</th>\n",
              "      <th>50</th>\n",
              "      <th>50 50</th>\n",
              "      <th>50 hybrid</th>\n",
              "      <th>55</th>\n",
              "      <th>...</th>\n",
              "      <th>walker</th>\n",
              "      <th>want</th>\n",
              "      <th>warm</th>\n",
              "      <th>washington</th>\n",
              "      <th>washington state</th>\n",
              "      <th>way</th>\n",
              "      <th>way cross</th>\n",
              "      <th>week</th>\n",
              "      <th>week flowering</th>\n",
              "      <th>weeks</th>\n",
              "      <th>weight</th>\n",
              "      <th>weighted</th>\n",
              "      <th>west</th>\n",
              "      <th>west coast</th>\n",
              "      <th>whimsical</th>\n",
              "      <th>white</th>\n",
              "      <th>white alien</th>\n",
              "      <th>white og</th>\n",
              "      <th>white widow</th>\n",
              "      <th>wide</th>\n",
              "      <th>widow</th>\n",
              "      <th>winner</th>\n",
              "      <th>winning</th>\n",
              "      <th>won</th>\n",
              "      <th>won 1st</th>\n",
              "      <th>wonder</th>\n",
              "      <th>woody</th>\n",
              "      <th>woody spicy</th>\n",
              "      <th>work</th>\n",
              "      <th>works</th>\n",
              "      <th>world</th>\n",
              "      <th>worth</th>\n",
              "      <th>wowie</th>\n",
              "      <th>wrapped</th>\n",
              "      <th>wreck</th>\n",
              "      <th>years</th>\n",
              "      <th>yield</th>\n",
              "      <th>yielding</th>\n",
              "      <th>yields</th>\n",
              "      <th>zesty</th>\n",
              "    </tr>\n",
              "  </thead>\n",
              "  <tbody>\n",
              "    <tr>\n",
              "      <th>0</th>\n",
              "      <td>0.0</td>\n",
              "      <td>0.0</td>\n",
              "      <td>0.0</td>\n",
              "      <td>0.0</td>\n",
              "      <td>0.0</td>\n",
              "      <td>0.00000</td>\n",
              "      <td>0.0</td>\n",
              "      <td>0.0</td>\n",
              "      <td>0.000000</td>\n",
              "      <td>0.0</td>\n",
              "      <td>0.000000</td>\n",
              "      <td>0.000000</td>\n",
              "      <td>0.0</td>\n",
              "      <td>0.0</td>\n",
              "      <td>0.0</td>\n",
              "      <td>0.0</td>\n",
              "      <td>0.0</td>\n",
              "      <td>0.0</td>\n",
              "      <td>0.0</td>\n",
              "      <td>0.0</td>\n",
              "      <td>0.0</td>\n",
              "      <td>0.0</td>\n",
              "      <td>0.0</td>\n",
              "      <td>0.000000</td>\n",
              "      <td>0.0</td>\n",
              "      <td>0.0</td>\n",
              "      <td>0.0</td>\n",
              "      <td>0.0</td>\n",
              "      <td>0.0</td>\n",
              "      <td>0.0</td>\n",
              "      <td>0.0</td>\n",
              "      <td>0.0</td>\n",
              "      <td>0.0</td>\n",
              "      <td>0.0</td>\n",
              "      <td>0.0</td>\n",
              "      <td>0.0</td>\n",
              "      <td>0.286626</td>\n",
              "      <td>0.15769</td>\n",
              "      <td>0.162149</td>\n",
              "      <td>0.0</td>\n",
              "      <td>...</td>\n",
              "      <td>0.0</td>\n",
              "      <td>0.0</td>\n",
              "      <td>0.0</td>\n",
              "      <td>0.0</td>\n",
              "      <td>0.0</td>\n",
              "      <td>0.0</td>\n",
              "      <td>0.0</td>\n",
              "      <td>0.0</td>\n",
              "      <td>0.0</td>\n",
              "      <td>0.0</td>\n",
              "      <td>0.0</td>\n",
              "      <td>0.0</td>\n",
              "      <td>0.0</td>\n",
              "      <td>0.0</td>\n",
              "      <td>0.0</td>\n",
              "      <td>0.000000</td>\n",
              "      <td>0.0</td>\n",
              "      <td>0.0</td>\n",
              "      <td>0.000000</td>\n",
              "      <td>0.0</td>\n",
              "      <td>0.000000</td>\n",
              "      <td>0.0</td>\n",
              "      <td>0.0</td>\n",
              "      <td>0.0</td>\n",
              "      <td>0.0</td>\n",
              "      <td>0.0</td>\n",
              "      <td>0.00000</td>\n",
              "      <td>0.0</td>\n",
              "      <td>0.0</td>\n",
              "      <td>0.0</td>\n",
              "      <td>0.0</td>\n",
              "      <td>0.0</td>\n",
              "      <td>0.000000</td>\n",
              "      <td>0.0</td>\n",
              "      <td>0.0</td>\n",
              "      <td>0.0</td>\n",
              "      <td>0.0</td>\n",
              "      <td>0.0</td>\n",
              "      <td>0.0</td>\n",
              "      <td>0.0</td>\n",
              "    </tr>\n",
              "    <tr>\n",
              "      <th>1</th>\n",
              "      <td>0.0</td>\n",
              "      <td>0.0</td>\n",
              "      <td>0.0</td>\n",
              "      <td>0.0</td>\n",
              "      <td>0.0</td>\n",
              "      <td>0.00000</td>\n",
              "      <td>0.0</td>\n",
              "      <td>0.0</td>\n",
              "      <td>0.000000</td>\n",
              "      <td>0.0</td>\n",
              "      <td>0.101565</td>\n",
              "      <td>0.132918</td>\n",
              "      <td>0.0</td>\n",
              "      <td>0.0</td>\n",
              "      <td>0.0</td>\n",
              "      <td>0.0</td>\n",
              "      <td>0.0</td>\n",
              "      <td>0.0</td>\n",
              "      <td>0.0</td>\n",
              "      <td>0.0</td>\n",
              "      <td>0.0</td>\n",
              "      <td>0.0</td>\n",
              "      <td>0.0</td>\n",
              "      <td>0.000000</td>\n",
              "      <td>0.0</td>\n",
              "      <td>0.0</td>\n",
              "      <td>0.0</td>\n",
              "      <td>0.0</td>\n",
              "      <td>0.0</td>\n",
              "      <td>0.0</td>\n",
              "      <td>0.0</td>\n",
              "      <td>0.0</td>\n",
              "      <td>0.0</td>\n",
              "      <td>0.0</td>\n",
              "      <td>0.0</td>\n",
              "      <td>0.0</td>\n",
              "      <td>0.000000</td>\n",
              "      <td>0.00000</td>\n",
              "      <td>0.000000</td>\n",
              "      <td>0.0</td>\n",
              "      <td>...</td>\n",
              "      <td>0.0</td>\n",
              "      <td>0.0</td>\n",
              "      <td>0.0</td>\n",
              "      <td>0.0</td>\n",
              "      <td>0.0</td>\n",
              "      <td>0.0</td>\n",
              "      <td>0.0</td>\n",
              "      <td>0.0</td>\n",
              "      <td>0.0</td>\n",
              "      <td>0.0</td>\n",
              "      <td>0.0</td>\n",
              "      <td>0.0</td>\n",
              "      <td>0.0</td>\n",
              "      <td>0.0</td>\n",
              "      <td>0.0</td>\n",
              "      <td>0.291018</td>\n",
              "      <td>0.0</td>\n",
              "      <td>0.0</td>\n",
              "      <td>0.371532</td>\n",
              "      <td>0.0</td>\n",
              "      <td>0.369437</td>\n",
              "      <td>0.0</td>\n",
              "      <td>0.0</td>\n",
              "      <td>0.0</td>\n",
              "      <td>0.0</td>\n",
              "      <td>0.0</td>\n",
              "      <td>0.00000</td>\n",
              "      <td>0.0</td>\n",
              "      <td>0.0</td>\n",
              "      <td>0.0</td>\n",
              "      <td>0.0</td>\n",
              "      <td>0.0</td>\n",
              "      <td>0.138621</td>\n",
              "      <td>0.0</td>\n",
              "      <td>0.0</td>\n",
              "      <td>0.0</td>\n",
              "      <td>0.0</td>\n",
              "      <td>0.0</td>\n",
              "      <td>0.0</td>\n",
              "      <td>0.0</td>\n",
              "    </tr>\n",
              "    <tr>\n",
              "      <th>2</th>\n",
              "      <td>0.0</td>\n",
              "      <td>0.0</td>\n",
              "      <td>0.0</td>\n",
              "      <td>0.0</td>\n",
              "      <td>0.0</td>\n",
              "      <td>0.00000</td>\n",
              "      <td>0.0</td>\n",
              "      <td>0.0</td>\n",
              "      <td>0.000000</td>\n",
              "      <td>0.0</td>\n",
              "      <td>0.000000</td>\n",
              "      <td>0.000000</td>\n",
              "      <td>0.0</td>\n",
              "      <td>0.0</td>\n",
              "      <td>0.0</td>\n",
              "      <td>0.0</td>\n",
              "      <td>0.0</td>\n",
              "      <td>0.0</td>\n",
              "      <td>0.0</td>\n",
              "      <td>0.0</td>\n",
              "      <td>0.0</td>\n",
              "      <td>0.0</td>\n",
              "      <td>0.0</td>\n",
              "      <td>0.000000</td>\n",
              "      <td>0.0</td>\n",
              "      <td>0.0</td>\n",
              "      <td>0.0</td>\n",
              "      <td>0.0</td>\n",
              "      <td>0.0</td>\n",
              "      <td>0.0</td>\n",
              "      <td>0.0</td>\n",
              "      <td>0.0</td>\n",
              "      <td>0.0</td>\n",
              "      <td>0.0</td>\n",
              "      <td>0.0</td>\n",
              "      <td>0.0</td>\n",
              "      <td>0.000000</td>\n",
              "      <td>0.00000</td>\n",
              "      <td>0.000000</td>\n",
              "      <td>0.0</td>\n",
              "      <td>...</td>\n",
              "      <td>0.0</td>\n",
              "      <td>0.0</td>\n",
              "      <td>0.0</td>\n",
              "      <td>0.0</td>\n",
              "      <td>0.0</td>\n",
              "      <td>0.0</td>\n",
              "      <td>0.0</td>\n",
              "      <td>0.0</td>\n",
              "      <td>0.0</td>\n",
              "      <td>0.0</td>\n",
              "      <td>0.0</td>\n",
              "      <td>0.0</td>\n",
              "      <td>0.0</td>\n",
              "      <td>0.0</td>\n",
              "      <td>0.0</td>\n",
              "      <td>0.000000</td>\n",
              "      <td>0.0</td>\n",
              "      <td>0.0</td>\n",
              "      <td>0.000000</td>\n",
              "      <td>0.0</td>\n",
              "      <td>0.000000</td>\n",
              "      <td>0.0</td>\n",
              "      <td>0.0</td>\n",
              "      <td>0.0</td>\n",
              "      <td>0.0</td>\n",
              "      <td>0.0</td>\n",
              "      <td>0.00000</td>\n",
              "      <td>0.0</td>\n",
              "      <td>0.0</td>\n",
              "      <td>0.0</td>\n",
              "      <td>0.0</td>\n",
              "      <td>0.0</td>\n",
              "      <td>0.000000</td>\n",
              "      <td>0.0</td>\n",
              "      <td>0.0</td>\n",
              "      <td>0.0</td>\n",
              "      <td>0.0</td>\n",
              "      <td>0.0</td>\n",
              "      <td>0.0</td>\n",
              "      <td>0.0</td>\n",
              "    </tr>\n",
              "    <tr>\n",
              "      <th>3</th>\n",
              "      <td>0.0</td>\n",
              "      <td>0.0</td>\n",
              "      <td>0.0</td>\n",
              "      <td>0.0</td>\n",
              "      <td>0.0</td>\n",
              "      <td>0.35166</td>\n",
              "      <td>0.0</td>\n",
              "      <td>0.0</td>\n",
              "      <td>0.000000</td>\n",
              "      <td>0.0</td>\n",
              "      <td>0.000000</td>\n",
              "      <td>0.000000</td>\n",
              "      <td>0.0</td>\n",
              "      <td>0.0</td>\n",
              "      <td>0.0</td>\n",
              "      <td>0.0</td>\n",
              "      <td>0.0</td>\n",
              "      <td>0.0</td>\n",
              "      <td>0.0</td>\n",
              "      <td>0.0</td>\n",
              "      <td>0.0</td>\n",
              "      <td>0.0</td>\n",
              "      <td>0.0</td>\n",
              "      <td>0.000000</td>\n",
              "      <td>0.0</td>\n",
              "      <td>0.0</td>\n",
              "      <td>0.0</td>\n",
              "      <td>0.0</td>\n",
              "      <td>0.0</td>\n",
              "      <td>0.0</td>\n",
              "      <td>0.0</td>\n",
              "      <td>0.0</td>\n",
              "      <td>0.0</td>\n",
              "      <td>0.0</td>\n",
              "      <td>0.0</td>\n",
              "      <td>0.0</td>\n",
              "      <td>0.000000</td>\n",
              "      <td>0.00000</td>\n",
              "      <td>0.000000</td>\n",
              "      <td>0.0</td>\n",
              "      <td>...</td>\n",
              "      <td>0.0</td>\n",
              "      <td>0.0</td>\n",
              "      <td>0.0</td>\n",
              "      <td>0.0</td>\n",
              "      <td>0.0</td>\n",
              "      <td>0.0</td>\n",
              "      <td>0.0</td>\n",
              "      <td>0.0</td>\n",
              "      <td>0.0</td>\n",
              "      <td>0.0</td>\n",
              "      <td>0.0</td>\n",
              "      <td>0.0</td>\n",
              "      <td>0.0</td>\n",
              "      <td>0.0</td>\n",
              "      <td>0.0</td>\n",
              "      <td>0.000000</td>\n",
              "      <td>0.0</td>\n",
              "      <td>0.0</td>\n",
              "      <td>0.000000</td>\n",
              "      <td>0.0</td>\n",
              "      <td>0.000000</td>\n",
              "      <td>0.0</td>\n",
              "      <td>0.0</td>\n",
              "      <td>0.0</td>\n",
              "      <td>0.0</td>\n",
              "      <td>0.0</td>\n",
              "      <td>0.12036</td>\n",
              "      <td>0.0</td>\n",
              "      <td>0.0</td>\n",
              "      <td>0.0</td>\n",
              "      <td>0.0</td>\n",
              "      <td>0.0</td>\n",
              "      <td>0.000000</td>\n",
              "      <td>0.0</td>\n",
              "      <td>0.0</td>\n",
              "      <td>0.0</td>\n",
              "      <td>0.0</td>\n",
              "      <td>0.0</td>\n",
              "      <td>0.0</td>\n",
              "      <td>0.0</td>\n",
              "    </tr>\n",
              "    <tr>\n",
              "      <th>4</th>\n",
              "      <td>0.0</td>\n",
              "      <td>0.0</td>\n",
              "      <td>0.0</td>\n",
              "      <td>0.0</td>\n",
              "      <td>0.0</td>\n",
              "      <td>0.00000</td>\n",
              "      <td>0.0</td>\n",
              "      <td>0.0</td>\n",
              "      <td>0.133172</td>\n",
              "      <td>0.0</td>\n",
              "      <td>0.000000</td>\n",
              "      <td>0.000000</td>\n",
              "      <td>0.0</td>\n",
              "      <td>0.0</td>\n",
              "      <td>0.0</td>\n",
              "      <td>0.0</td>\n",
              "      <td>0.0</td>\n",
              "      <td>0.0</td>\n",
              "      <td>0.0</td>\n",
              "      <td>0.0</td>\n",
              "      <td>0.0</td>\n",
              "      <td>0.0</td>\n",
              "      <td>0.0</td>\n",
              "      <td>0.131099</td>\n",
              "      <td>0.0</td>\n",
              "      <td>0.0</td>\n",
              "      <td>0.0</td>\n",
              "      <td>0.0</td>\n",
              "      <td>0.0</td>\n",
              "      <td>0.0</td>\n",
              "      <td>0.0</td>\n",
              "      <td>0.0</td>\n",
              "      <td>0.0</td>\n",
              "      <td>0.0</td>\n",
              "      <td>0.0</td>\n",
              "      <td>0.0</td>\n",
              "      <td>0.000000</td>\n",
              "      <td>0.00000</td>\n",
              "      <td>0.000000</td>\n",
              "      <td>0.0</td>\n",
              "      <td>...</td>\n",
              "      <td>0.0</td>\n",
              "      <td>0.0</td>\n",
              "      <td>0.0</td>\n",
              "      <td>0.0</td>\n",
              "      <td>0.0</td>\n",
              "      <td>0.0</td>\n",
              "      <td>0.0</td>\n",
              "      <td>0.0</td>\n",
              "      <td>0.0</td>\n",
              "      <td>0.0</td>\n",
              "      <td>0.0</td>\n",
              "      <td>0.0</td>\n",
              "      <td>0.0</td>\n",
              "      <td>0.0</td>\n",
              "      <td>0.0</td>\n",
              "      <td>0.000000</td>\n",
              "      <td>0.0</td>\n",
              "      <td>0.0</td>\n",
              "      <td>0.000000</td>\n",
              "      <td>0.0</td>\n",
              "      <td>0.000000</td>\n",
              "      <td>0.0</td>\n",
              "      <td>0.0</td>\n",
              "      <td>0.0</td>\n",
              "      <td>0.0</td>\n",
              "      <td>0.0</td>\n",
              "      <td>0.00000</td>\n",
              "      <td>0.0</td>\n",
              "      <td>0.0</td>\n",
              "      <td>0.0</td>\n",
              "      <td>0.0</td>\n",
              "      <td>0.0</td>\n",
              "      <td>0.000000</td>\n",
              "      <td>0.0</td>\n",
              "      <td>0.0</td>\n",
              "      <td>0.0</td>\n",
              "      <td>0.0</td>\n",
              "      <td>0.0</td>\n",
              "      <td>0.0</td>\n",
              "      <td>0.0</td>\n",
              "    </tr>\n",
              "  </tbody>\n",
              "</table>\n",
              "<p>5 rows × 2000 columns</p>\n",
              "</div>"
            ],
            "text/plain": [
              "    10  10 weeks   11  11 weeks   12  ...  years  yield  yielding  yields  zesty\n",
              "0  0.0       0.0  0.0       0.0  0.0  ...    0.0    0.0       0.0     0.0    0.0\n",
              "1  0.0       0.0  0.0       0.0  0.0  ...    0.0    0.0       0.0     0.0    0.0\n",
              "2  0.0       0.0  0.0       0.0  0.0  ...    0.0    0.0       0.0     0.0    0.0\n",
              "3  0.0       0.0  0.0       0.0  0.0  ...    0.0    0.0       0.0     0.0    0.0\n",
              "4  0.0       0.0  0.0       0.0  0.0  ...    0.0    0.0       0.0     0.0    0.0\n",
              "\n",
              "[5 rows x 2000 columns]"
            ]
          },
          "metadata": {
            "tags": []
          },
          "execution_count": 18
        }
      ]
    },
    {
      "cell_type": "code",
      "metadata": {
        "id": "OdCU5FTpMZEB"
      },
      "source": [
        "ideal = [\"\"\"\n",
        "Creative,Uplifted,Tingly,Euphoric,Relaxed, Giggly\n",
        "\"\"\"]"
      ],
      "execution_count": 19,
      "outputs": []
    },
    {
      "cell_type": "code",
      "metadata": {
        "colab": {
          "base_uri": "https://localhost:8080/"
        },
        "id": "ZBRi80bKMaqe",
        "outputId": "07761f52-c4c1-4f97-b3ce-12fde435f53c"
      },
      "source": [
        "# Query the ideal descprition\n",
        "new = tfidf.transform(ideal)\n",
        "new"
      ],
      "execution_count": 20,
      "outputs": [
        {
          "output_type": "execute_result",
          "data": {
            "text/plain": [
              "<1x2000 sparse matrix of type '<class 'numpy.float64'>'\n",
              "\twith 11 stored elements in Compressed Sparse Row format>"
            ]
          },
          "metadata": {
            "tags": []
          },
          "execution_count": 20
        }
      ]
    },
    {
      "cell_type": "code",
      "metadata": {
        "colab": {
          "base_uri": "https://localhost:8080/"
        },
        "id": "OBzkMUoQMcQR",
        "outputId": "ee391eed-b68b-4abf-d288-17f0dfa8c7d3"
      },
      "source": [
        "nn.kneighbors(new.todense())"
      ],
      "execution_count": 21,
      "outputs": [
        {
          "output_type": "execute_result",
          "data": {
            "text/plain": [
              "(array([[1.19045604, 1.26028088, 1.26830873, 1.27166822]]),\n",
              " array([[1881, 1586,  373,  317]]))"
            ]
          },
          "metadata": {
            "tags": []
          },
          "execution_count": 21
        }
      ]
    },
    {
      "cell_type": "code",
      "metadata": {
        "colab": {
          "base_uri": "https://localhost:8080/",
          "height": 105
        },
        "id": "L6WcKzyEM7FF",
        "outputId": "10d0300b-3e2a-4e99-e541-3e0541790ad4"
      },
      "source": [
        "# most ideal description,strain and flavor\n",
        "df['Description'][1681]"
      ],
      "execution_count": 22,
      "outputs": [
        {
          "output_type": "execute_result",
          "data": {
            "application/vnd.google.colaboratory.intrinsic+json": {
              "type": "string"
            },
            "text/plain": [
              "'Saturn OG is a hybrid strain with mysterious beginnings, but its earthy citrus and diesel flavors confirms its close relationship to OG Kush. Its undocumented origins result in this strain being labeled as indica, sativa, and everything in between, but its effects are most commonly described as hybrid-like in its balanced calm and moderate cerebral effects. Saturn OG’s forest green buds are lit by a constellation of crystal trichomes, and this OG Kush relative is often lumped into a “planetary strain” series that includes Earth OG and Jupiter OG. The psychoactive onset of Saturn OG begins with an intense burst of euphoria that fades to smooth relaxation perfect for relieving stress and muscle tension.\\xa0'"
            ]
          },
          "metadata": {
            "tags": []
          },
          "execution_count": 22
        }
      ]
    },
    {
      "cell_type": "code",
      "metadata": {
        "colab": {
          "base_uri": "https://localhost:8080/",
          "height": 35
        },
        "id": "rpBx--a_M832",
        "outputId": "b540c14c-3871-453e-897c-0d368cce9712"
      },
      "source": [
        "df['Strain'][1681]"
      ],
      "execution_count": 23,
      "outputs": [
        {
          "output_type": "execute_result",
          "data": {
            "application/vnd.google.colaboratory.intrinsic+json": {
              "type": "string"
            },
            "text/plain": [
              "'Saturn-Og'"
            ]
          },
          "metadata": {
            "tags": []
          },
          "execution_count": 23
        }
      ]
    },
    {
      "cell_type": "code",
      "metadata": {
        "colab": {
          "base_uri": "https://localhost:8080/",
          "height": 35
        },
        "id": "jbQFW8lLM-0U",
        "outputId": "287e36d6-ed66-47a0-a7a2-5be00e8a2c4b"
      },
      "source": [
        "df['Flavor'][1681]"
      ],
      "execution_count": 24,
      "outputs": [
        {
          "output_type": "execute_result",
          "data": {
            "application/vnd.google.colaboratory.intrinsic+json": {
              "type": "string"
            },
            "text/plain": [
              "'Earthy Sweet Tree Fruit'"
            ]
          },
          "metadata": {
            "tags": []
          },
          "execution_count": 24
        }
      ]
    },
    {
      "cell_type": "code",
      "metadata": {
        "colab": {
          "base_uri": "https://localhost:8080/",
          "height": 35
        },
        "id": "XhqjhKNnM_30",
        "outputId": "2b823013-40ce-46a7-af49-e577588dc11e"
      },
      "source": [
        "df['Effects'][1681]"
      ],
      "execution_count": 25,
      "outputs": [
        {
          "output_type": "execute_result",
          "data": {
            "application/vnd.google.colaboratory.intrinsic+json": {
              "type": "string"
            },
            "text/plain": [
              "'Happy Relaxed Euphoric Uplifted Sleepy'"
            ]
          },
          "metadata": {
            "tags": []
          },
          "execution_count": 25
        }
      ]
    },
    {
      "cell_type": "code",
      "metadata": {
        "id": "CRkqbP6PNBBT"
      },
      "source": [
        "import pickle\n",
        "# Dump the trained classifier (nn)  with Pickle\n",
        "pickle_filename = 'model.pkl2'\n",
        "pickled_model = open(pickle_filename, 'wb')  # Open the file to save as pkl file\n",
        "pickle.dump(nn, pickled_model)\n",
        "pickled_model.close() # Close the pickle instances"
      ],
      "execution_count": 26,
      "outputs": []
    },
    {
      "cell_type": "code",
      "metadata": {
        "colab": {
          "base_uri": "https://localhost:8080/"
        },
        "id": "UD_RsUcjNCud",
        "outputId": "13a41ff4-10ee-4a1c-914e-0b02aec0687c"
      },
      "source": [
        "# Loading the saved model\n",
        "model_pkl2 = open(pickle_filename, 'rb')\n",
        "NN_model2 = pickle.load(model_pkl2)\n",
        "print (\"Loaded model :: \", NN_model2)  # print to verify"
      ],
      "execution_count": 27,
      "outputs": [
        {
          "output_type": "stream",
          "text": [
            "Loaded model ::  NearestNeighbors(algorithm='kd_tree', leaf_size=30, metric='minkowski',\n",
            "                 metric_params=None, n_jobs=None, n_neighbors=4, p=2,\n",
            "                 radius=1.0)\n"
          ],
          "name": "stdout"
        }
      ]
    },
    {
      "cell_type": "code",
      "metadata": {
        "id": "44VUAh6hNEXb"
      },
      "source": [
        "# Dump the trained classifier (tfidf)  with Pickle\n",
        "pickle_filename_1 = 'tfidf.pkl2'\n",
        "pickled_model_1 = open(pickle_filename_1, 'wb')  # Open the file to save as pkl file\n",
        "pickle.dump(tfidf, pickled_model_1)\n",
        "pickled_model_1.close() # Close the pickle instances"
      ],
      "execution_count": 28,
      "outputs": []
    },
    {
      "cell_type": "code",
      "metadata": {
        "colab": {
          "base_uri": "https://localhost:8080/"
        },
        "id": "y1Ao4zAuNGai",
        "outputId": "b578146a-8206-4aa8-878b-390cdf37a249"
      },
      "source": [
        "# Loading the saved model\n",
        "model_pkl_1 = open(pickle_filename_1, 'rb')\n",
        "tfidf_model2 = pickle.load(model_pkl_1)\n",
        "print (\"Loaded model :: \", tfidf_model2)  # print to verify"
      ],
      "execution_count": 29,
      "outputs": [
        {
          "output_type": "stream",
          "text": [
            "Loaded model ::  TfidfVectorizer(analyzer='word', binary=False, decode_error='strict',\n",
            "                dtype=<class 'numpy.float64'>, encoding='utf-8',\n",
            "                input='content', lowercase=True, max_df=1.0, max_features=2000,\n",
            "                min_df=1, ngram_range=(1, 2), norm='l2', preprocessor=None,\n",
            "                smooth_idf=True, stop_words='english', strip_accents=None,\n",
            "                sublinear_tf=False, token_pattern='(?u)\\\\b\\\\w\\\\w+\\\\b',\n",
            "                tokenizer=None, use_idf=True, vocabulary=None)\n"
          ],
          "name": "stdout"
        }
      ]
    },
    {
      "cell_type": "code",
      "metadata": {
        "id": "W_PVMuKNNH8x"
      },
      "source": [
        "ideal2 = [\"happy,Sleepy,Apricot,Citrus,Grapefruit\"]"
      ],
      "execution_count": 30,
      "outputs": []
    },
    {
      "cell_type": "code",
      "metadata": {
        "colab": {
          "base_uri": "https://localhost:8080/"
        },
        "id": "ylB_JSymNJuL",
        "outputId": "0e5a2eef-9365-49cb-c41b-3b89c8d2c25a"
      },
      "source": [
        "new2 = tfidf_model2.transform(ideal2)\n",
        "new2"
      ],
      "execution_count": 31,
      "outputs": [
        {
          "output_type": "execute_result",
          "data": {
            "text/plain": [
              "<1x2000 sparse matrix of type '<class 'numpy.float64'>'\n",
              "\twith 5 stored elements in Compressed Sparse Row format>"
            ]
          },
          "metadata": {
            "tags": []
          },
          "execution_count": 31
        }
      ]
    },
    {
      "cell_type": "code",
      "metadata": {
        "colab": {
          "base_uri": "https://localhost:8080/"
        },
        "id": "YZ5KUcooNKvl",
        "outputId": "a8847d5f-e10c-42f5-e509-524d8678d181"
      },
      "source": [
        "NN_model2.kneighbors(new2.todense())"
      ],
      "execution_count": 32,
      "outputs": [
        {
          "output_type": "execute_result",
          "data": {
            "text/plain": [
              "(array([[1.09504845, 1.14089606, 1.15844355, 1.18178543]]),\n",
              " array([[1911,  398,  863, 1497]]))"
            ]
          },
          "metadata": {
            "tags": []
          },
          "execution_count": 32
        }
      ]
    },
    {
      "cell_type": "code",
      "metadata": {
        "colab": {
          "base_uri": "https://localhost:8080/",
          "height": 35
        },
        "id": "vJvNiS4sNL4s",
        "outputId": "34646b2b-f572-4b7f-d885-021d60aae086"
      },
      "source": [
        "df['Strain'][2013]"
      ],
      "execution_count": 33,
      "outputs": [
        {
          "output_type": "execute_result",
          "data": {
            "application/vnd.google.colaboratory.intrinsic+json": {
              "type": "string"
            },
            "text/plain": [
              "'Triangle-Kush'"
            ]
          },
          "metadata": {
            "tags": []
          },
          "execution_count": 33
        }
      ]
    },
    {
      "cell_type": "code",
      "metadata": {
        "id": "siKfRddwNM-0"
      },
      "source": [
        "import json\n",
        "def recommend(user_input):\n",
        "    temp_df = NN_model2.kneighbors(tfidf_model2.transform([user_input]).todense())[1]\n",
        "    \n",
        "\n",
        "    #print(temp_df)\n",
        "    \n",
        "    for i in range(4):\n",
        "        info = df.loc[temp_df[0][i]]['Strain']\n",
        "        info_effects = df.loc[temp_df[0][i]]['Effects']\n",
        "        info_flavor = df.loc[temp_df[0][i]]['Flavor']\n",
        "        info_description = df.loc[temp_df[0][i]]['Description']\n",
        "        info_rating = df.loc[temp_df[0][i]]['Rating']\n",
        "        \n",
        "        print(json.dumps(info))\n",
        "        print(json.dumps(info_effects))\n",
        "        print(json.dumps(info_flavor))\n",
        "        print(json.dumps(info_description))\n",
        "        print(json.dumps(info_rating))\n",
        "        \n",
        "        #return json.dumps(info)  #for engineeers, the return does not work in jupyter lab.  Should work in vsCode.\n",
        "        #return json.dumps(info_effects)\n",
        "        #return json.dumps(info_flavor)\n",
        "        #return json.dump(info_description)\n",
        "        #return json.dumps(info_rating)"
      ],
      "execution_count": 34,
      "outputs": []
    },
    {
      "cell_type": "code",
      "metadata": {
        "colab": {
          "base_uri": "https://localhost:8080/"
        },
        "id": "o7rzKQVfNO0j",
        "outputId": "ac97e632-f934-4a64-a2d6-c589607707e9"
      },
      "source": [
        "recommend('hybrid-like in its balanced calm and moderate cerebral effects')"
      ],
      "execution_count": 35,
      "outputs": [
        {
          "output_type": "stream",
          "text": [
            "\"Saturn-Og\"\n",
            "\"Happy Relaxed Euphoric Uplifted Sleepy\"\n",
            "\"Earthy Sweet Tree Fruit\"\n",
            "\"Saturn OG is a hybrid strain with mysterious beginnings, but its earthy citrus and diesel flavors confirms its close relationship to OG Kush. Its undocumented origins result in this strain being labeled as indica, sativa, and everything in between, but its effects are most commonly described as hybrid-like in its balanced calm and moderate cerebral effects. Saturn OG\\u2019s forest green buds are lit by a constellation of crystal trichomes, and this OG Kush relative is often lumped into a \\u201cplanetary strain\\u201d series that includes Earth OG and Jupiter OG. The psychoactive onset of Saturn OG begins with an intense burst of euphoria that fades to smooth relaxation perfect for relieving stress and muscle tension.\\u00a0\"\n",
            "4.5\n",
            "\"Moonwalker-Kush\"\n",
            "\"Relaxed Euphoric Happy Focused Giggly\"\n",
            "\"Earthy Pine Minty\"\n",
            "\"Moonwalker Kush is a balanced indica-dominant hybrid that is the genetic cross of Triple OG and Tahoe Alien. This odoriferous combination speaks volumes through its scent, which is thick with soured earth and a hint of pepper on the finish. The herbaceous terpene profile aligns nicely with this strain\\u2019s intense relaxation and moderate cerebral effects. Try Moonwalker Kush after dark to harness the sedative effects nestled below layers of trichomes and brown pistils. \\u00a0\\u00a0\\u00a0\"\n",
            "4.9\n",
            "\"Sapphire-Star\"\n",
            "\"Uplifted Focused Happy Euphoric Relaxed\"\n",
            "\"Grapefruit Lemon Sweet\"\n",
            "\"Sapphire Star, a cross between Blue Hawaiian sativa and God Bud, is a hybrid whose genetics and cerebral effects tip slightly toward the sativa side. This strain from Jordan of the Islands is quite possibly named for its bluish accents and starry coat of white crystal trichomes. Cerebral energy balanced by an indica calm create a comfortable psychoactive experience conducive for creative and social activities. Berry overtones tinged with a sour skunk aroma build a complex flavor profile for the small dense buds. Sapphire Star, with a flowering time of 7 to 8 weeks, grows to a towering 15 feet outdoors and up to 6 feet in indoor gardens.\\u00a0\"\n",
            "4.5\n",
            "\"Lapd\"\n",
            "\"Uplifted Energetic Happy Relaxed Creative\"\n",
            "\"Diesel Pepper Pungent\"\n",
            "\"LAPD is a perfectly balanced hybrid named after parent strains, LA Confidential and Purple Diesel. A flavorful medley of sweet grape, earthy pine, and spicy pepper build the complex aroma of LAPD\\u2019s compact crimson and purple buds. Small to moderate doses induce a mellow, cerebral euphoria that sinks down to the rest of the body in a full physical calm. According to its breeders at California Bean Bank, LAPD\\u2019s abbreviated name appropriately describes these variable effects: \\u201cto protect and serve, or to take you out.\\u201d LAPD is typically chosen by patients treating pain, cramps, stress, and fatigue. This hybrid grows best in greenhouse gardens using sea or screen of green methods, with a flowering time of 50 to 60 days.\\u00a0\"\n",
            "4.7\n"
          ],
          "name": "stdout"
        }
      ]
    },
    {
      "cell_type": "code",
      "metadata": {
        "id": "NXjsPR5fNQRa"
      },
      "source": [
        ""
      ],
      "execution_count": null,
      "outputs": []
    }
  ]
}